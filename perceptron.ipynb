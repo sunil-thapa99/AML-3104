{
 "cells": [
  {
   "cell_type": "markdown",
   "metadata": {},
   "source": [
    "### Perceptron "
   ]
  },
  {
   "cell_type": "code",
   "execution_count": 3,
   "metadata": {},
   "outputs": [],
   "source": [
    "import random"
   ]
  },
  {
   "cell_type": "code",
   "execution_count": 23,
   "metadata": {},
   "outputs": [
    {
     "data": {
      "text/plain": [
       "([(0, 0), (0, 1), (1, 0), (1, 1)], [0, 0, 0, 1])"
      ]
     },
     "execution_count": 23,
     "metadata": {},
     "output_type": "execute_result"
    }
   ],
   "source": [
    "# AND gate input output\n",
    "input_data = [(0, 0), (0, 1), (1, 0), (1, 1)]\n",
    "output_data = [0, 0, 0, 1]\n",
    "input_data, output_data"
   ]
  },
  {
   "cell_type": "code",
   "execution_count": 24,
   "metadata": {},
   "outputs": [
    {
     "data": {
      "text/plain": [
       "(0.9672576599725273, 0.5559411986216258, 0.9556740146974867)"
      ]
     },
     "execution_count": 24,
     "metadata": {},
     "output_type": "execute_result"
    }
   ],
   "source": [
    "# Initialize weights and bias\n",
    "w1 = random.uniform(-1, 1)\n",
    "w2 = random.uniform(-1, 1)\n",
    "b = random.uniform(-1, 1)\n",
    "w1, w2, b"
   ]
  },
  {
   "cell_type": "code",
   "execution_count": 25,
   "metadata": {},
   "outputs": [],
   "source": [
    "# learning rate\n",
    "lr = 0.1\n",
    "\n",
    "# number of trials\n",
    "epochs = 1000"
   ]
  },
  {
   "cell_type": "code",
   "execution_count": 26,
   "metadata": {},
   "outputs": [],
   "source": [
    "# Activation function\n",
    "def activate(w_sum):\n",
    "    threshold = 0\n",
    "    if w_sum > threshold:\n",
    "        return 1\n",
    "    else:\n",
    "        return 0"
   ]
  },
  {
   "cell_type": "code",
   "execution_count": 27,
   "metadata": {},
   "outputs": [
    {
     "name": "stdout",
     "output_type": "stream",
     "text": [
      "Output:  1\n",
      "Error:  -1\n",
      "Update weights:  0.9672576599725273 0.5559411986216258 0.8556740146974867\n",
      "Total error:  1\n",
      "Output:  1\n",
      "Error:  -1\n",
      "Update weights:  0.9672576599725273 0.45594119862162585 0.7556740146974867\n",
      "Total error:  2\n",
      "Output:  1\n",
      "Error:  -1\n",
      "Update weights:  0.8672576599725274 0.45594119862162585 0.6556740146974868\n",
      "Total error:  3\n",
      "Output:  1\n",
      "Error:  0\n",
      "Update weights:  0.8672576599725274 0.45594119862162585 0.6556740146974868\n",
      "Total error:  3\n",
      "Output:  1\n",
      "Error:  -1\n",
      "Update weights:  0.8672576599725274 0.45594119862162585 0.5556740146974868\n",
      "Total error:  1\n",
      "Output:  1\n",
      "Error:  -1\n",
      "Update weights:  0.8672576599725274 0.3559411986216259 0.4556740146974868\n",
      "Total error:  2\n",
      "Output:  1\n",
      "Error:  -1\n",
      "Update weights:  0.7672576599725274 0.3559411986216259 0.35567401469748683\n",
      "Total error:  3\n",
      "Output:  1\n",
      "Error:  0\n",
      "Update weights:  0.7672576599725274 0.3559411986216259 0.35567401469748683\n",
      "Total error:  3\n",
      "Output:  1\n",
      "Error:  -1\n",
      "Update weights:  0.7672576599725274 0.3559411986216259 0.25567401469748685\n",
      "Total error:  1\n",
      "Output:  1\n",
      "Error:  -1\n",
      "Update weights:  0.7672576599725274 0.2559411986216259 0.15567401469748685\n",
      "Total error:  2\n",
      "Output:  1\n",
      "Error:  -1\n",
      "Update weights:  0.6672576599725274 0.2559411986216259 0.05567401469748684\n",
      "Total error:  3\n",
      "Output:  1\n",
      "Error:  0\n",
      "Update weights:  0.6672576599725274 0.2559411986216259 0.05567401469748684\n",
      "Total error:  3\n",
      "Output:  1\n",
      "Error:  -1\n",
      "Update weights:  0.6672576599725274 0.2559411986216259 -0.044325985302513166\n",
      "Total error:  1\n",
      "Output:  1\n",
      "Error:  -1\n",
      "Update weights:  0.6672576599725274 0.1559411986216259 -0.14432598530251317\n",
      "Total error:  2\n",
      "Output:  1\n",
      "Error:  -1\n",
      "Update weights:  0.5672576599725274 0.1559411986216259 -0.24432598530251318\n",
      "Total error:  3\n",
      "Output:  1\n",
      "Error:  0\n",
      "Update weights:  0.5672576599725274 0.1559411986216259 -0.24432598530251318\n",
      "Total error:  3\n",
      "Output:  0\n",
      "Error:  0\n",
      "Update weights:  0.5672576599725274 0.1559411986216259 -0.24432598530251318\n",
      "Total error:  0\n",
      "Output:  0\n",
      "Error:  0\n",
      "Update weights:  0.5672576599725274 0.1559411986216259 -0.24432598530251318\n",
      "Total error:  0\n",
      "Output:  1\n",
      "Error:  -1\n",
      "Update weights:  0.46725765997252744 0.1559411986216259 -0.3443259853025132\n",
      "Total error:  1\n",
      "Output:  1\n",
      "Error:  0\n",
      "Update weights:  0.46725765997252744 0.1559411986216259 -0.3443259853025132\n",
      "Total error:  1\n",
      "Output:  0\n",
      "Error:  0\n",
      "Update weights:  0.46725765997252744 0.1559411986216259 -0.3443259853025132\n",
      "Total error:  0\n",
      "Output:  0\n",
      "Error:  0\n",
      "Update weights:  0.46725765997252744 0.1559411986216259 -0.3443259853025132\n",
      "Total error:  0\n",
      "Output:  1\n",
      "Error:  -1\n",
      "Update weights:  0.36725765997252746 0.1559411986216259 -0.4443259853025132\n",
      "Total error:  1\n",
      "Output:  1\n",
      "Error:  0\n",
      "Update weights:  0.36725765997252746 0.1559411986216259 -0.4443259853025132\n",
      "Total error:  1\n",
      "Output:  0\n",
      "Error:  0\n",
      "Update weights:  0.36725765997252746 0.1559411986216259 -0.4443259853025132\n",
      "Total error:  0\n",
      "Output:  0\n",
      "Error:  0\n",
      "Update weights:  0.36725765997252746 0.1559411986216259 -0.4443259853025132\n",
      "Total error:  0\n",
      "Output:  0\n",
      "Error:  0\n",
      "Update weights:  0.36725765997252746 0.1559411986216259 -0.4443259853025132\n",
      "Total error:  0\n",
      "Output:  1\n",
      "Error:  0\n",
      "Update weights:  0.36725765997252746 0.1559411986216259 -0.4443259853025132\n",
      "Total error:  0\n",
      "Epoch number:  6\n"
     ]
    }
   ],
   "source": [
    "for epoch in range(epochs):\n",
    "    total_error = 0\n",
    "    for i in range(len(input_data)):\n",
    "        input1, input2 = input_data[i]\n",
    "        target_output = output_data[i]\n",
    "\n",
    "        # Compute weighted sum\n",
    "        weighted_sum = input1 * w1 + input2 * w2 + b\n",
    "\n",
    "        output = activate(weighted_sum)\n",
    "        print('Output: ', output)\n",
    "\n",
    "        error = target_output - output\n",
    "        print('Error: ', error)\n",
    "\n",
    "        # update weight and bias\n",
    "        w1 += lr * error * input1\n",
    "        w2 += lr * error * input2\n",
    "        b += lr * error\n",
    "        print('Update weights: ', w1, w2, b)\n",
    "\n",
    "        total_error += abs(error)\n",
    "        print('Total error: ', total_error)\n",
    "\n",
    "    # Check perceptron learned the function\n",
    "    if total_error == 0:\n",
    "        print('Epoch number: ', epoch)\n",
    "        break\n",
    "\n"
   ]
  },
  {
   "cell_type": "code",
   "execution_count": 28,
   "metadata": {},
   "outputs": [
    {
     "name": "stdout",
     "output_type": "stream",
     "text": [
      "Output:  0\n",
      "Output:  0\n",
      "Output:  0\n",
      "Output:  1\n"
     ]
    }
   ],
   "source": [
    "test_data = [(0, 0), (0, 0.9), (0.5, 0), (1, 0.7)]\n",
    "for i in range(len(test_data)):\n",
    "    input1, input2 = test_data[i]\n",
    "    weighted_sum = input1 * w1 + input2 * w2 + b\n",
    "    output = activate(weighted_sum)\n",
    "    print('Output: ', output)"
   ]
  },
  {
   "cell_type": "code",
   "execution_count": null,
   "metadata": {},
   "outputs": [],
   "source": []
  }
 ],
 "metadata": {
  "kernelspec": {
   "display_name": "AML1214",
   "language": "python",
   "name": "python3"
  },
  "language_info": {
   "codemirror_mode": {
    "name": "ipython",
    "version": 3
   },
   "file_extension": ".py",
   "mimetype": "text/x-python",
   "name": "python",
   "nbconvert_exporter": "python",
   "pygments_lexer": "ipython3",
   "version": "3.8.13"
  },
  "orig_nbformat": 4
 },
 "nbformat": 4,
 "nbformat_minor": 2
}
